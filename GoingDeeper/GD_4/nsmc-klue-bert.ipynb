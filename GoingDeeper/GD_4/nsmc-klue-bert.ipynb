{
 "cells": [
  {
   "cell_type": "markdown",
   "id": "1e08b488",
   "metadata": {},
   "source": [
    "# 1️⃣ 라이브러리 및 패키지 확인"
   ]
  },
  {
   "cell_type": "code",
   "execution_count": 1,
   "id": "a20f25fd",
   "metadata": {},
   "outputs": [
    {
     "name": "stdout",
     "output_type": "stream",
     "text": [
      "2.6.0\n",
      "1.21.4\n",
      "4.11.3\n",
      "1.14.0\n"
     ]
    }
   ],
   "source": [
    "import tensorflow\n",
    "import numpy\n",
    "import transformers\n",
    "import datasets\n",
    "from datasets import load_dataset\n",
    "from datasets import DatasetDict\n",
    "\n",
    "print(tensorflow.__version__)\n",
    "print(numpy.__version__)\n",
    "print(transformers.__version__)\n",
    "print(datasets.__version__)"
   ]
  },
  {
   "cell_type": "code",
   "execution_count": 2,
   "id": "177d4356",
   "metadata": {},
   "outputs": [
    {
     "data": {
      "application/vnd.jupyter.widget-view+json": {
       "model_id": "6b41227923f24cd8ab3583c23e0157b9",
       "version_major": 2,
       "version_minor": 0
      },
      "text/plain": [
       "  0%|          | 0/2 [00:00<?, ?it/s]"
      ]
     },
     "metadata": {},
     "output_type": "display_data"
    },
    {
     "name": "stdout",
     "output_type": "stream",
     "text": [
      "DatasetDict({\n",
      "    train: Dataset({\n",
      "        features: ['id', 'document', 'label'],\n",
      "        num_rows: 150000\n",
      "    })\n",
      "    test: Dataset({\n",
      "        features: ['id', 'document', 'label'],\n",
      "        num_rows: 50000\n",
      "    })\n",
      "})\n"
     ]
    }
   ],
   "source": [
    "# 로딩 중 로그 출력 최소화 (로딩바 포함)\n",
    "import datasets\n",
    "datasets.logging.set_verbosity_error()  # 모든 로깅 출력 (로딩바 포함)을 끔\n",
    "\n",
    "# 실제 데이터셋 불러오기\n",
    "nsmc_dataset = load_dataset('e9t/nsmc')\n",
    "\n",
    "# 데이터셋 전체 구조 출력 (train/validation/test로 나뉜 dict 형태)\n",
    "print(nsmc_dataset)"
   ]
  },
  {
   "cell_type": "markdown",
   "id": "87d0c0f7",
   "metadata": {},
   "source": [
    "### ✅ 체크포인트 : 데이터 구성요소 분석\n",
    "\n",
    "---\n",
    "\n",
    "데터셋은 DatasetDict 형태로 train, test 가 존재하는 것을 알 수 있음.\n",
    "\n",
    "`train` : 150000개의 데이터, `id`,`document`,`label` 이 존재한다.\n",
    "`test` : 50000개의 데이터, `id`,`document`,`label` 이 존재한다.\n",
    "\n",
    "**Validation Set을 나눠줘야겠다. 학습용으로**"
   ]
  },
  {
   "cell_type": "code",
   "execution_count": 5,
   "id": "bc72305f",
   "metadata": {},
   "outputs": [
    {
     "name": "stdout",
     "output_type": "stream",
     "text": [
      "{'train': Dataset({\n",
      "    features: ['id', 'document', 'label'],\n",
      "    num_rows: 135000\n",
      "}), 'validation': Dataset({\n",
      "    features: ['id', 'document', 'label'],\n",
      "    num_rows: 15000\n",
      "}), 'test': Dataset({\n",
      "    features: ['id', 'document', 'label'],\n",
      "    num_rows: 50000\n",
      "})}\n"
     ]
    }
   ],
   "source": [
    "# train 데이터를 90% 학습용 / 10% 검증용으로 나눔\n",
    "# 일반적으로 10% 정도 사용한다고 한다.\n",
    "nsmc_split = nsmc_dataset['train'].train_test_split(test_size=0.1, seed=42)\n",
    "\n",
    "# 새롭게 구성된 데이터셋 딕셔너리로 저장\n",
    "nsmc_dataset = {\n",
    "    'train': nsmc_split['train'],\n",
    "    'validation': nsmc_split['test'],\n",
    "    'test': nsmc_dataset['test']\n",
    "}\n",
    "\n",
    "print(nsmc_dataset)"
   ]
  },
  {
   "cell_type": "code",
   "execution_count": 6,
   "id": "c14df3b9",
   "metadata": {},
   "outputs": [
    {
     "name": "stdout",
     "output_type": "stream",
     "text": [
      "Negative (0): 67703\n",
      "Positive (1): 67297\n"
     ]
    }
   ],
   "source": [
    "# 클래스 불균형 확인하기\n",
    "\n",
    "from collections import Counter\n",
    "\n",
    "# train split에서 label 추출\n",
    "train_labels = nsmc_dataset['train']['label']\n",
    "\n",
    "# 각 클래스 개수 세기\n",
    "label_counts = Counter(train_labels)\n",
    "\n",
    "# 출력\n",
    "print(f\"Negative (0): {label_counts[0]}\")\n",
    "print(f\"Positive (1): {label_counts[1]}\")"
   ]
  },
  {
   "cell_type": "code",
   "execution_count": 7,
   "id": "1540a2c2",
   "metadata": {},
   "outputs": [
    {
     "data": {
      "image/png": "[encoded data removed]",
      "text/plain": [
       "<Figure size 432x288 with 1 Axes>"
      ]
     },
     "metadata": {
      "needs_background": "light"
     },
     "output_type": "display_data"
    }
   ],
   "source": [
    "import matplotlib.pyplot as plt\n",
    "\n",
    "# 1. 문장 길이 측정\n",
    "train_docs = nsmc_dataset['train']['document']\n",
    "lengths = [len(doc) for doc in train_docs]  # 각 문장의 문자 수\n",
    "\n",
    "# 2. 히스토그램 그리기\n",
    "plt.hist(lengths, bins=50, color='skyblue', edgecolor='black')\n",
    "plt.title(\"NSMC\")\n",
    "plt.xlabel(\"doc length\")\n",
    "plt.ylabel(\"doc num\")\n",
    "plt.grid(True)\n",
    "plt.show()"
   ]
  },
  {
   "cell_type": "code",
   "execution_count": 8,
   "id": "aa04c667",
   "metadata": {},
   "outputs": [
    {
     "name": "stdout",
     "output_type": "stream",
     "text": [
      "📌 평균 문장 길이: 35.19\n",
      "📌 표준편차: 29.57\n",
      "📌 90%의 문장을 포함하기 위한 최소 길이: 75\n"
     ]
    }
   ],
   "source": [
    "import numpy as np\n",
    "\n",
    "# 1. 길이 리스트 생성 \n",
    "lengths = [len(doc) for doc in nsmc_dataset['train']['document']]\n",
    "\n",
    "# 2. 평균 및 표준편차 계산\n",
    "mean_length = np.mean(lengths)\n",
    "std_length = np.std(lengths)\n",
    "\n",
    "print(f\"📌 평균 문장 길이: {mean_length:.2f}\")\n",
    "print(f\"📌 표준편차: {std_length:.2f}\")\n",
    "\n",
    "# 3. 누적 분포를 기준으로 90% 커버하는 길이 구하기\n",
    "percentile_90 = np.percentile(lengths, 90)  # 전체 문장 중 90%가 이 길이 이내\n",
    "\n",
    "print(f\"📌 90%의 문장을 포함하기 위한 최소 길이: {percentile_90:.0f}\")"
   ]
  },
  {
   "cell_type": "markdown",
   "id": "c65ad9e4",
   "metadata": {},
   "source": [
    "### ✅ 체크포인트 : NSMC 데이터가 어떤 데이터인지 파악\n",
    "\n",
    "---\n",
    "#### 데이터 구조\n",
    "NSMC는 다음과 같은 데이터 특성을 가지고 있다.\n",
    "\n",
    "`ID` : 고유 번호\n",
    "`Document` : 리뷰 텍스트 데이터\n",
    "`Label` : 감성분류 1은 긍정 0은 부정\n",
    "\n",
    "#### 클래스 불균형 여부\n",
    "클래스 불균형은 거의 없다고 보면 된다.\n",
    "\n",
    "#### 문장길이 분포 \n",
    "\n",
    "📌 평균 문장 길이: 35.20\n",
    "\n",
    "📌 표준편차: 29.58\n",
    "\n",
    "📌 90%의 문장을 포함하기 위한 최소 길이: 75"
   ]
  },
  {
   "cell_type": "markdown",
   "id": "8efb2992",
   "metadata": {},
   "source": [
    "# 2️⃣ Tokenizer & Model\n",
    "\n",
    "---\n",
    "\n",
    "만약에 허깅페이스에 데이터셋이 없다면 Tensorflow_dataset에서 불러와서 Huggingface 에 맞게 바꾸는 과정을 하겠지만 충분히 있으므로 허깅페이스 데이터로 그래도 진행한다.\n",
    "\n",
    "현재 노드에서는 `Klue/Bert Model` 및 토크나이저를 `AutoTokenizer`에 맞게 진행할거임."
   ]
  },
  {
   "cell_type": "code",
   "execution_count": 12,
   "id": "ca6f6f39",
   "metadata": {},
   "outputs": [
    {
     "name": "stderr",
     "output_type": "stream",
     "text": [
      "Didn't find file ./nsmc-klue-bert-finetuned/added_tokens.json. We won't load it.\n",
      "loading file ./nsmc-klue-bert-finetuned/vocab.txt\n",
      "loading file ./nsmc-klue-bert-finetuned/tokenizer.json\n",
      "loading file None\n",
      "loading file ./nsmc-klue-bert-finetuned/special_tokens_map.json\n",
      "loading file ./nsmc-klue-bert-finetuned/tokenizer_config.json\n",
      "loading configuration file ./nsmc-klue-bert-finetuned/config.json\n",
      "Model config BertConfig {\n",
      "  \"_name_or_path\": \"klue/bert-base\",\n",
      "  \"architectures\": [\n",
      "    \"BertForSequenceClassification\"\n",
      "  ],\n",
      "  \"attention_probs_dropout_prob\": 0.1,\n",
      "  \"classifier_dropout\": null,\n",
      "  \"hidden_act\": \"gelu\",\n",
      "  \"hidden_dropout_prob\": 0.1,\n",
      "  \"hidden_size\": 768,\n",
      "  \"initializer_range\": 0.02,\n",
      "  \"intermediate_size\": 3072,\n",
      "  \"layer_norm_eps\": 1e-12,\n",
      "  \"max_position_embeddings\": 512,\n",
      "  \"model_type\": \"bert\",\n",
      "  \"num_attention_heads\": 12,\n",
      "  \"num_hidden_layers\": 12,\n",
      "  \"pad_token_id\": 0,\n",
      "  \"position_embedding_type\": \"absolute\",\n",
      "  \"problem_type\": \"single_label_classification\",\n",
      "  \"torch_dtype\": \"float32\",\n",
      "  \"transformers_version\": \"4.11.3\",\n",
      "  \"type_vocab_size\": 2,\n",
      "  \"use_cache\": true,\n",
      "  \"vocab_size\": 32000\n",
      "}\n",
      "\n",
      "loading weights file ./nsmc-klue-bert-finetuned/pytorch_model.bin\n",
      "All model checkpoint weights were used when initializing BertForSequenceClassification.\n",
      "\n",
      "All the weights of BertForSequenceClassification were initialized from the model checkpoint at ./nsmc-klue-bert-finetuned.\n",
      "If your task is similar to the task the model of the checkpoint was trained on, you can already use BertForSequenceClassification for predictions without further training.\n"
     ]
    }
   ],
   "source": [
    "# Hugging Face의 transformers 라이브러리에서 필요한 클래스 불러오기\n",
    "import transformers\n",
    "from transformers import AutoTokenizer, AutoModelForSequenceClassification\n",
    "\n",
    "# 🔹 1. Tokenizer 불러오기\n",
    "\n",
    "huggingface_tokenizer = AutoTokenizer.from_pretrained('./nsmc-klue-bert-finetuned')\n",
    "\n",
    "# 🔹 2. 모델 불러오기 (분류용)\n",
    "\n",
    "huggingface_model = AutoModelForSequenceClassification.from_pretrained(\n",
    "    './nsmc-klue-bert-finetuned',  # 사전 학습된 klue/bert-base 모델 사용\n",
    "    num_labels=2                # 출력 클래스 수: 2개 (0 또는 1)\n",
    ")\n"
   ]
  },
  {
   "cell_type": "markdown",
   "id": "7a5667e2",
   "metadata": {},
   "source": [
    "### ✅ 체크포인트 : `AutoTokenizer`와 `AutoModel` 의 기능\n",
    "---\n",
    "\n",
    "`AutoTokenizer`, `AutoModel` 기능을 한번 사용해 본거다\n",
    "\n",
    "```python\n",
    "huggingface_tokenizer = AutoTokenizer.from_pretrained('distilbert-base-uncased')\n",
    "```\n",
    "\n",
    " 이 명령은 'distilbert-base-uncased' 모델에 최적화된 토크나이저 클래스 (예: DistilBertTokenizerFast)를 자동으로 로드해서 `huggingface_tokenizer`에 할당합니다.\n",
    "\n",
    "```python\n",
    "huggingface_model = AutoModelForSequenceClassification.from_pretrained(\n",
    "    'distilbert-base-uncased', \n",
    "    num_labels=2                \n",
    ")\n",
    "```\n",
    "\n",
    "여기서는 `AutoModelForSequenceClassification` 해당 사전학습 모델 위에 분류용 헤드가 붙은 구조를 불러온다.\n",
    "\n",
    "이 부분은 `AutoModelForTokenClassification`, `AutoModelForQuestionAnswering` 등 다양한 task에 따라 모델이 존재한다.\n"
   ]
  },
  {
   "cell_type": "code",
   "execution_count": 13,
   "id": "4dd4f267",
   "metadata": {},
   "outputs": [],
   "source": [
    "def transform(data):\n",
    "    # data['document']는 문자열 리스트\n",
    "    # → batched=True일 경우 한 번에 여러 문장이 들어옴\n",
    "\n",
    "    # 1. 텍스트 정제 (필요 시)\n",
    "    texts = data['document']\n",
    "    # texts = [clean_text(t) for t in texts]\n",
    "\n",
    "    # 2. 토크나이징\n",
    "    tokenized = huggingface_tokenizer(\n",
    "        texts,                         # 리스트 그대로 전달\n",
    "        truncation=True,\n",
    "        max_length=75,                # 이전 분석 기반 길이 설정\n",
    "        padding='max_length',\n",
    "        return_token_type_ids=False\n",
    "    )\n",
    "\n",
    "    # 3. 레이블 추가 (그대로 매칭됨)\n",
    "    tokenized['label'] = data['label']\n",
    "    return tokenized"
   ]
  },
  {
   "cell_type": "code",
   "execution_count": 14,
   "id": "08627553",
   "metadata": {},
   "outputs": [],
   "source": [
    "nsmc_dataset = DatasetDict({\n",
    "    'train': nsmc_split['train'],\n",
    "    'validation': nsmc_split['test'],\n",
    "    'test': nsmc_dataset['test']\n",
    "})"
   ]
  },
  {
   "cell_type": "code",
   "execution_count": 15,
   "id": "4c724885",
   "metadata": {},
   "outputs": [
    {
     "data": {
      "application/vnd.jupyter.widget-view+json": {
       "model_id": "e257b15c3c9e4fb99f45ccd7cc9f8c35",
       "version_major": 2,
       "version_minor": 0
      },
      "text/plain": [
       "  0%|          | 0/135 [00:00<?, ?ba/s]"
      ]
     },
     "metadata": {},
     "output_type": "display_data"
    },
    {
     "data": {
      "application/vnd.jupyter.widget-view+json": {
       "model_id": "67745631953d43f296c8621fb2123960",
       "version_major": 2,
       "version_minor": 0
      },
      "text/plain": [
       "  0%|          | 0/15 [00:00<?, ?ba/s]"
      ]
     },
     "metadata": {},
     "output_type": "display_data"
    },
    {
     "data": {
      "application/vnd.jupyter.widget-view+json": {
       "model_id": "aff8ff30d7a14c74924714e8ee5db096",
       "version_major": 2,
       "version_minor": 0
      },
      "text/plain": [
       "  0%|          | 0/50 [00:00<?, ?ba/s]"
      ]
     },
     "metadata": {},
     "output_type": "display_data"
    }
   ],
   "source": [
    "hf_dataset = nsmc_dataset.map(transform, batched=True)\n",
    "\n",
    "hf_train_dataset = hf_dataset['train']\n",
    "hf_val_dataset = hf_dataset['validation']\n",
    "hf_test_dataset = hf_dataset['test']"
   ]
  },
  {
   "cell_type": "code",
   "execution_count": 16,
   "id": "3fe80d71",
   "metadata": {},
   "outputs": [
    {
     "name": "stdout",
     "output_type": "stream",
     "text": [
      "{0, 1}\n",
      "{0, 1}\n"
     ]
    }
   ],
   "source": [
    "print(set(hf_dataset['train']['label']))  # → {0, 1}이면 OK, {-1}이면 문제\n",
    "print(set(hf_dataset['test']['label']))  # → {0, 1}이면 OK, {-1}이면 문제"
   ]
  },
  {
   "cell_type": "markdown",
   "id": "0581c6ac",
   "metadata": {},
   "source": [
    "### ✅ 체크포인트: map() 함수의 역할\n",
    "---\n",
    "\n",
    "🔹 **map() 함수는 무엇을 하나요**\n",
    "\n",
    "Hugging Face datasets.Dataset 객체에 있는 모든 샘플에 특정 함수를 자동 반복 적용합니다.\n",
    "\n",
    "반복문을 직접 쓰지 않아도, 내부적으로 최적화된 방식으로 빠르게 데이터를 처리해줍니다.\n",
    "\n",
    "🔹 **왜 batched=True를 써야 하나요?**\n",
    "\n",
    "토크나이저(huggingface_tokenizer)는 문장 여러 개를 한꺼번에 처리할 수 있을 때 더 빠르고 효율적입니다.\n",
    "\n",
    "batched=True를 쓰면 transform() 함수에 여러 샘플이 list 형태로 전달되므로,\n",
    "\n",
    "→ data['sentence1']는 단일 문장이 아니라 여러 문장의 리스트가 됩니다."
   ]
  },
  {
   "cell_type": "markdown",
   "id": "daf36291",
   "metadata": {},
   "source": [
    "# 4️⃣ Train & Evaluation & Test"
   ]
  },
  {
   "cell_type": "code",
   "execution_count": 13,
   "id": "b19d240a",
   "metadata": {},
   "outputs": [],
   "source": [
    "import os\n",
    "import numpy as np\n",
    "from transformers import Trainer, TrainingArguments\n",
    "\n",
    "output_dir = os.getenv('HOME') + '/aiffel/transformers/nsmc-klue-bert' \n",
    "\n",
    "# TrainingArguments: Trainer에 넘겨줄 학습 설정값 정의\n",
    "training_arguments = TrainingArguments(\n",
    "    output_dir,                          # 학습 결과가 저장될 디렉토리\n",
    "    evaluation_strategy=\"epoch\",        # 매 epoch이 끝날 때마다 평가 실행\n",
    "    learning_rate=2e-5,                 # 학습률 (learning rate)\n",
    "    per_device_train_batch_size=64,      # 각 디바이스당 학습 배치 크기\n",
    "    per_device_eval_batch_size=64,       # 평가 시 배치 크기\n",
    "    num_train_epochs=3,                 # 학습할 전체 에폭 수\n",
    "    weight_decay=0.01                   # 가중치 감소 (L2 정규화에 사용)\n",
    ")\n"
   ]
  },
  {
   "cell_type": "code",
   "execution_count": 14,
   "id": "8ae8a317",
   "metadata": {},
   "outputs": [],
   "source": [
    "from sklearn.metrics import accuracy_score, precision_score, recall_score, f1_score\n",
    "import numpy as np\n",
    "\n",
    "def compute_metrics(eval_pred):\n",
    "    predictions, labels = eval_pred\n",
    "    preds = np.argmax(predictions, axis=1)  # logits → class index\n",
    "\n",
    "    return {\n",
    "        'accuracy': accuracy_score(labels, preds),           # 전체 정확도\n",
    "        'precision': precision_score(labels, preds),         # 정밀도 (양성으로 예측한 것 중 실제 양성 비율)\n",
    "        'recall': recall_score(labels, preds),               # 재현율 (실제 양성 중에서 맞춘 비율)\n",
    "        'f1': f1_score(labels, preds)                        # 정밀도와 재현율의 조화 평균\n",
    "    }"
   ]
  },
  {
   "cell_type": "code",
   "execution_count": 15,
   "id": "d279c7d3",
   "metadata": {},
   "outputs": [],
   "source": [
    "# Trainer 객체 생성\n",
    "trainer = Trainer(\n",
    "    model=huggingface_model,             # KLUE-BERT\n",
    "    args=training_arguments,             # 학습 설정 인자들\n",
    "    train_dataset=hf_train_dataset,      # 학습 데이터셋 (토크나이즈 완료)\n",
    "    eval_dataset=hf_val_dataset,         # 검증 데이터셋\n",
    "    compute_metrics=compute_metrics      # 평가 함수 (accuracy, F1)\n",
    ")"
   ]
  },
  {
   "cell_type": "code",
   "execution_count": 16,
   "id": "44f0f165",
   "metadata": {},
   "outputs": [
    {
     "name": "stderr",
     "output_type": "stream",
     "text": [
      "The following columns in the training set  don't have a corresponding argument in `BertForSequenceClassification.forward` and have been ignored: id, document.\n",
      "***** Running training *****\n",
      "  Num examples = 135000\n",
      "  Num Epochs = 3\n",
      "  Instantaneous batch size per device = 64\n",
      "  Total train batch size (w. parallel, distributed & accumulation) = 64\n",
      "  Gradient Accumulation steps = 1\n",
      "  Total optimization steps = 6330\n"
     ]
    },
    {
     "data": {
      "text/html": [
       "\n",
       "    <div>\n",
       "      \n",
       "      <progress value='6330' max='6330' style='width:300px; height:20px; vertical-align: middle;'></progress>\n",
       "      [6330/6330 1:56:03, Epoch 3/3]\n",
       "    </div>\n",
       "    <table border=\"1\" class=\"dataframe\">\n",
       "  <thead>\n",
       "    <tr style=\"text-align: left;\">\n",
       "      <th>Epoch</th>\n",
       "      <th>Training Loss</th>\n",
       "      <th>Validation Loss</th>\n",
       "      <th>Accuracy</th>\n",
       "      <th>Precision</th>\n",
       "      <th>Recall</th>\n",
       "      <th>F1</th>\n",
       "    </tr>\n",
       "  </thead>\n",
       "  <tbody>\n",
       "    <tr>\n",
       "      <td>1</td>\n",
       "      <td>0.248600</td>\n",
       "      <td>0.246010</td>\n",
       "      <td>0.899533</td>\n",
       "      <td>0.881637</td>\n",
       "      <td>0.923904</td>\n",
       "      <td>0.902276</td>\n",
       "    </tr>\n",
       "    <tr>\n",
       "      <td>2</td>\n",
       "      <td>0.189800</td>\n",
       "      <td>0.239139</td>\n",
       "      <td>0.905267</td>\n",
       "      <td>0.890451</td>\n",
       "      <td>0.925100</td>\n",
       "      <td>0.907445</td>\n",
       "    </tr>\n",
       "    <tr>\n",
       "      <td>3</td>\n",
       "      <td>0.131500</td>\n",
       "      <td>0.269185</td>\n",
       "      <td>0.908467</td>\n",
       "      <td>0.906403</td>\n",
       "      <td>0.911819</td>\n",
       "      <td>0.909103</td>\n",
       "    </tr>\n",
       "  </tbody>\n",
       "</table><p>"
      ],
      "text/plain": [
       "<IPython.core.display.HTML object>"
      ]
     },
     "metadata": {},
     "output_type": "display_data"
    },
    {
     "name": "stderr",
     "output_type": "stream",
     "text": [
      "Saving model checkpoint to /aiffel/aiffel/transformers/nsmc-klue-bert/checkpoint-500\n",
      "Configuration saved in /aiffel/aiffel/transformers/nsmc-klue-bert/checkpoint-500/config.json\n",
      "Model weights saved in /aiffel/aiffel/transformers/nsmc-klue-bert/checkpoint-500/pytorch_model.bin\n",
      "Saving model checkpoint to /aiffel/aiffel/transformers/nsmc-klue-bert/checkpoint-1000\n",
      "Configuration saved in /aiffel/aiffel/transformers/nsmc-klue-bert/checkpoint-1000/config.json\n",
      "Model weights saved in /aiffel/aiffel/transformers/nsmc-klue-bert/checkpoint-1000/pytorch_model.bin\n",
      "Saving model checkpoint to /aiffel/aiffel/transformers/nsmc-klue-bert/checkpoint-1500\n",
      "Configuration saved in /aiffel/aiffel/transformers/nsmc-klue-bert/checkpoint-1500/config.json\n",
      "Model weights saved in /aiffel/aiffel/transformers/nsmc-klue-bert/checkpoint-1500/pytorch_model.bin\n",
      "Saving model checkpoint to /aiffel/aiffel/transformers/nsmc-klue-bert/checkpoint-2000\n",
      "Configuration saved in /aiffel/aiffel/transformers/nsmc-klue-bert/checkpoint-2000/config.json\n",
      "Model weights saved in /aiffel/aiffel/transformers/nsmc-klue-bert/checkpoint-2000/pytorch_model.bin\n",
      "The following columns in the evaluation set  don't have a corresponding argument in `BertForSequenceClassification.forward` and have been ignored: id, document.\n",
      "***** Running Evaluation *****\n",
      "  Num examples = 15000\n",
      "  Batch size = 64\n",
      "Saving model checkpoint to /aiffel/aiffel/transformers/nsmc-klue-bert/checkpoint-2500\n",
      "Configuration saved in /aiffel/aiffel/transformers/nsmc-klue-bert/checkpoint-2500/config.json\n",
      "Model weights saved in /aiffel/aiffel/transformers/nsmc-klue-bert/checkpoint-2500/pytorch_model.bin\n",
      "Saving model checkpoint to /aiffel/aiffel/transformers/nsmc-klue-bert/checkpoint-3000\n",
      "Configuration saved in /aiffel/aiffel/transformers/nsmc-klue-bert/checkpoint-3000/config.json\n",
      "Model weights saved in /aiffel/aiffel/transformers/nsmc-klue-bert/checkpoint-3000/pytorch_model.bin\n",
      "Saving model checkpoint to /aiffel/aiffel/transformers/nsmc-klue-bert/checkpoint-3500\n",
      "Configuration saved in /aiffel/aiffel/transformers/nsmc-klue-bert/checkpoint-3500/config.json\n",
      "Model weights saved in /aiffel/aiffel/transformers/nsmc-klue-bert/checkpoint-3500/pytorch_model.bin\n",
      "Saving model checkpoint to /aiffel/aiffel/transformers/nsmc-klue-bert/checkpoint-4000\n",
      "Configuration saved in /aiffel/aiffel/transformers/nsmc-klue-bert/checkpoint-4000/config.json\n",
      "Model weights saved in /aiffel/aiffel/transformers/nsmc-klue-bert/checkpoint-4000/pytorch_model.bin\n",
      "The following columns in the evaluation set  don't have a corresponding argument in `BertForSequenceClassification.forward` and have been ignored: id, document.\n",
      "***** Running Evaluation *****\n",
      "  Num examples = 15000\n",
      "  Batch size = 64\n",
      "Saving model checkpoint to /aiffel/aiffel/transformers/nsmc-klue-bert/checkpoint-4500\n",
      "Configuration saved in /aiffel/aiffel/transformers/nsmc-klue-bert/checkpoint-4500/config.json\n",
      "Model weights saved in /aiffel/aiffel/transformers/nsmc-klue-bert/checkpoint-4500/pytorch_model.bin\n",
      "Saving model checkpoint to /aiffel/aiffel/transformers/nsmc-klue-bert/checkpoint-5000\n",
      "Configuration saved in /aiffel/aiffel/transformers/nsmc-klue-bert/checkpoint-5000/config.json\n",
      "Model weights saved in /aiffel/aiffel/transformers/nsmc-klue-bert/checkpoint-5000/pytorch_model.bin\n",
      "Saving model checkpoint to /aiffel/aiffel/transformers/nsmc-klue-bert/checkpoint-5500\n",
      "Configuration saved in /aiffel/aiffel/transformers/nsmc-klue-bert/checkpoint-5500/config.json\n",
      "Model weights saved in /aiffel/aiffel/transformers/nsmc-klue-bert/checkpoint-5500/pytorch_model.bin\n",
      "Saving model checkpoint to /aiffel/aiffel/transformers/nsmc-klue-bert/checkpoint-6000\n",
      "Configuration saved in /aiffel/aiffel/transformers/nsmc-klue-bert/checkpoint-6000/config.json\n",
      "Model weights saved in /aiffel/aiffel/transformers/nsmc-klue-bert/checkpoint-6000/pytorch_model.bin\n",
      "The following columns in the evaluation set  don't have a corresponding argument in `BertForSequenceClassification.forward` and have been ignored: id, document.\n",
      "***** Running Evaluation *****\n",
      "  Num examples = 15000\n",
      "  Batch size = 64\n",
      "\n",
      "\n",
      "Training completed. Do not forget to share your model on huggingface.co/models =)\n",
      "\n",
      "\n"
     ]
    },
    {
     "data": {
      "text/plain": [
       "TrainOutput(global_step=6330, training_loss=0.2004366641172677, metrics={'train_runtime': 6965.4757, 'train_samples_per_second': 58.144, 'train_steps_per_second': 0.909, 'total_flos': 1.56093716925e+16, 'train_loss': 0.2004366641172677, 'epoch': 3.0})"
      ]
     },
     "execution_count": 16,
     "metadata": {},
     "output_type": "execute_result"
    }
   ],
   "source": [
    "trainer.train() # 학습 시작"
   ]
  },
  {
   "cell_type": "markdown",
   "id": "982aa4e4",
   "metadata": {},
   "source": [
    "### ✅ 체크포인트: 학습 결과\n",
    "---\n",
    "\n",
    "결과 적으로 과적합되기전에 완료가 되었지만\n",
    "\n",
    "`Accuracy` : 0.90846 \n",
    "\n",
    "`F1`       : 0.909103\n",
    "\n",
    "요구조건인 정확도 90% 이상은 충족했다.\n",
    "\n",
    "---\n",
    "\n",
    "이후에는 현재 Finetunning 된 모델과 가중치들을 저장해 이다음 test 셋에 대해 진행해보아 Acc, F1 을 출력해볼 것이다."
   ]
  },
  {
   "cell_type": "code",
   "execution_count": 19,
   "id": "eda06cdb",
   "metadata": {},
   "outputs": [
    {
     "name": "stderr",
     "output_type": "stream",
     "text": [
      "Saving model checkpoint to ./nsmc-klue-bert-finetuned\n",
      "Configuration saved in ./nsmc-klue-bert-finetuned/config.json\n",
      "Model weights saved in ./nsmc-klue-bert-finetuned/pytorch_model.bin\n",
      "tokenizer config file saved in ./nsmc-klue-bert-finetuned/tokenizer_config.json\n",
      "Special tokens file saved in ./nsmc-klue-bert-finetuned/special_tokens_map.json\n"
     ]
    },
    {
     "data": {
      "text/plain": [
       "('./nsmc-klue-bert-finetuned/tokenizer_config.json',\n",
       " './nsmc-klue-bert-finetuned/special_tokens_map.json',\n",
       " './nsmc-klue-bert-finetuned/vocab.txt',\n",
       " './nsmc-klue-bert-finetuned/added_tokens.json',\n",
       " './nsmc-klue-bert-finetuned/tokenizer.json')"
      ]
     },
     "execution_count": 19,
     "metadata": {},
     "output_type": "execute_result"
    }
   ],
   "source": [
    "trainer.save_model('./nsmc-klue-bert-finetuned')\n",
    "huggingface_tokenizer.save_pretrained('./nsmc-klue-bert-finetuned')\n"
   ]
  },
  {
   "cell_type": "code",
   "execution_count": 9,
   "id": "27c17b74",
   "metadata": {},
   "outputs": [],
   "source": [
    "from transformers import AutoModelForSequenceClassification, AutoTokenizer\n",
    "\n",
    "model = AutoModelForSequenceClassification.from_pretrained('./nsmc-klue-bert-finetuned')\n",
    "tokenizer = AutoTokenizer.from_pretrained('./nsmc-klue-bert-finetuned')"
   ]
  },
  {
   "cell_type": "code",
   "execution_count": 10,
   "id": "b2510610",
   "metadata": {},
   "outputs": [],
   "source": [
    "from sklearn.metrics import accuracy_score, f1_score\n",
    "import numpy as np\n",
    "\n",
    "def compute_metrics(eval_pred):\n",
    "    predictions, labels = eval_pred\n",
    "    preds = np.argmax(predictions, axis=1)\n",
    "    return {\n",
    "        'accuracy': accuracy_score(labels, preds),\n",
    "        'f1': f1_score(labels, preds)\n",
    "    }"
   ]
  },
  {
   "cell_type": "code",
   "execution_count": 17,
   "id": "6d3f7d5a",
   "metadata": {},
   "outputs": [
    {
     "name": "stderr",
     "output_type": "stream",
     "text": [
      "No `TrainingArguments` passed, using `output_dir=tmp_trainer`.\n",
      "PyTorch: setting up devices\n",
      "The default value for the training argument `--report_to` will change in v5 (from all installed integrations to none). In v5, you will need to use `--report_to all` to get the same behavior as now. You should start updating your code and make this info disappear :-).\n",
      "The following columns in the evaluation set  don't have a corresponding argument in `BertForSequenceClassification.forward` and have been ignored: id, document.\n",
      "***** Running Evaluation *****\n",
      "  Num examples = 50000\n",
      "  Batch size = 8\n"
     ]
    },
    {
     "data": {
      "text/html": [
       "\n",
       "    <div>\n",
       "      \n",
       "      <progress value='6250' max='6250' style='width:300px; height:20px; vertical-align: middle;'></progress>\n",
       "      [6250/6250 05:21]\n",
       "    </div>\n",
       "    "
      ],
      "text/plain": [
       "<IPython.core.display.HTML object>"
      ]
     },
     "metadata": {},
     "output_type": "display_data"
    },
    {
     "name": "stdout",
     "output_type": "stream",
     "text": [
      "{'eval_loss': 0.2749262750148773, 'eval_accuracy': 0.90454, 'eval_f1': 0.9059303494353456, 'eval_runtime': 322.0676, 'eval_samples_per_second': 155.247, 'eval_steps_per_second': 19.406}\n"
     ]
    }
   ],
   "source": [
    "from transformers import Trainer\n",
    "\n",
    "test_trainer = Trainer(\n",
    "    model=model,\n",
    "    tokenizer=tokenizer,\n",
    "    compute_metrics=compute_metrics\n",
    ")\n",
    "\n",
    "# 테스트셋 평가\n",
    "test_result = test_trainer.evaluate(hf_test_dataset)\n",
    "print(test_result)"
   ]
  },
  {
   "cell_type": "markdown",
   "id": "1486566b",
   "metadata": {},
   "source": [
    "### ✅ 체크포인트: Eval 결과\n",
    "---\n",
    "\n",
    "결과 적으로 과적합되기전에 완료가 되었지만\n",
    "\n",
    "`Accuracy` : 0.90454\n",
    "\n",
    "`F1`       : 0.90593\n",
    "\n",
    "요구조건인 정확도 90% 이상은 충족했다.\n"
   ]
  },
  {
   "cell_type": "markdown",
   "id": "2e5a95d9",
   "metadata": {},
   "source": [
    "# 5️⃣ Bucketing & Dynamic Padding"
   ]
  },
  {
   "cell_type": "markdown",
   "id": "43eb5f34",
   "metadata": {},
   "source": [
    "#### ✅ Dynamic Padding 이란?\n",
    "\n",
    "동적 패딩(Dynamic Padding)은 각 미니배치(batch)에서 가장 긴 문장을 기준으로 padding을 수행하는 방식입니다.\n",
    "\n",
    "전체 max_length를 기준으로 하지 않고, 매 배치마다 필요한 만큼만 padding합니다.\n",
    "\n",
    "`batch = [\"나는 간다\", \"나는 오늘 도서관에 갑니다\", \"갑니다\"]`\n",
    "\n",
    "- 가장 긴 문장 길이가 8 토큰이면 → batch 내 모든 문장을 8에 맞춰 padding\n",
    "\n",
    "- 다음 배치가 더 짧은 문장으로 구성되면 → 그 배치에서는 5만큼만 padding\n",
    "\n",
    "#### ✅ Bucketing이란?\n",
    "\n",
    "버킷팅(Bucketing)은 문장 길이가 비슷한 샘플끼리 묶어서 batch를 구성하는 전략입니다.\n",
    "Dynamic Padding의 효율을 더 극대화하기 위한 보조 전략입니다.\n",
    "\n",
    "`데이터셋 전체: [5토큰, 7토큰, 100토큰, 105토큰, 110토큰, 10토큰...]`\n",
    "\n",
    "`Bucket 1: [5, 7, 10]`\n",
    "\n",
    "`Bucket 2: [100, 105, 110]`\n",
    "\n",
    "→ 비슷한 길이끼리 batch를 구성하면 padding이 거의 필요 없음 → 학습 속도 향상 및 메모리 낭비 감소"
   ]
  },
  {
   "cell_type": "code",
   "execution_count": 18,
   "id": "c067990b",
   "metadata": {},
   "outputs": [],
   "source": [
    "# 1. 토크나이저 기반으로 dynamic padding 수행하는 Data Collator 생성\n",
    "from transformers import DataCollatorWithPadding\n",
    "data_collator = DataCollatorWithPadding(tokenizer=tokenizer)\n",
    "# → 각 배치마다 가장 긴 문장의 길이에 맞춰 padding을 동적으로 수행\n",
    "# → Padding 효율을 높여 GPU 메모리 낭비를 줄이고 학습 속도 향상 기대"
   ]
  },
  {
   "cell_type": "code",
   "execution_count": 23,
   "id": "b068e9f4",
   "metadata": {},
   "outputs": [
    {
     "name": "stderr",
     "output_type": "stream",
     "text": [
      "PyTorch: setting up devices\n",
      "The default value for the training argument `--report_to` will change in v5 (from all installed integrations to none). In v5, you will need to use `--report_to all` to get the same behavior as now. You should start updating your code and make this info disappear :-).\n"
     ]
    }
   ],
   "source": [
    "from transformers import TrainingArguments\n",
    "import os\n",
    "\n",
    "# 3. TrainingArguments 정의 (group_by_length 포함)\n",
    "output_dir = os.getenv('HOME') + '/aiffel/transformers/nsmc-klue-bert' \n",
    "\n",
    "training_arguments_bucketing = TrainingArguments(\n",
    "    output_dir=output_dir,              # 모델과 로그 파일 저장 위치\n",
    "    evaluation_strategy=\"epoch\",       # 매 epoch 끝날 때마다 validation 평가 수행\n",
    "    learning_rate=2e-5,                # 학습률\n",
    "    per_device_train_batch_size=64,    # 학습 시 배치 크기\n",
    "    per_device_eval_batch_size=64,     # 평가 시 배치 크기\n",
    "    num_train_epochs=3,                # 학습 epoch 수\n",
    "    weight_decay=0.01,                 # L2 정규화에 사용되는 가중치 감소 값\n",
    "    group_by_length=True               # 문장 길이에 따라 유사한 샘플끼리 버킷을 만들어 학습\n",
    "    # → 이로 인해 동적 패딩 효과가 극대화됨\n",
    ")"
   ]
  },
  {
   "cell_type": "code",
   "execution_count": 24,
   "id": "1d3c52b9",
   "metadata": {},
   "outputs": [],
   "source": [
    "# 4. Trainer 객체 생성\n",
    "trainer_bucketing = Trainer(\n",
    "    model=model,                             # fine-tuned 된 KLUE-BERT 모델\n",
    "    args=training_arguments_bucketing,       # 위에서 정의한 학습 설정\n",
    "    train_dataset=hf_train_dataset,          # 학습 데이터셋\n",
    "    eval_dataset=hf_val_dataset,             # 검증 데이터셋\n",
    "    tokenizer=tokenizer,                     # tokenizer: 로그 기록, data_collator 등에 사용됨\n",
    "    data_collator=data_collator,             # 동적 padding 적용을 위한 collator\n",
    "    compute_metrics=compute_metrics          # 정확도, 정밀도, 재현율, F1 점수 평가 함수\n",
    ")"
   ]
  },
  {
   "cell_type": "code",
   "execution_count": 25,
   "id": "d9a5cf5d",
   "metadata": {},
   "outputs": [
    {
     "name": "stderr",
     "output_type": "stream",
     "text": [
      "The following columns in the training set  don't have a corresponding argument in `BertForSequenceClassification.forward` and have been ignored: id, document.\n",
      "***** Running training *****\n",
      "  Num examples = 135000\n",
      "  Num Epochs = 3\n",
      "  Instantaneous batch size per device = 64\n",
      "  Total train batch size (w. parallel, distributed & accumulation) = 64\n",
      "  Gradient Accumulation steps = 1\n",
      "  Total optimization steps = 6330\n"
     ]
    },
    {
     "data": {
      "text/html": [
       "\n",
       "    <div>\n",
       "      \n",
       "      <progress value='6330' max='6330' style='width:300px; height:20px; vertical-align: middle;'></progress>\n",
       "      [6330/6330 1:58:01, Epoch 3/3]\n",
       "    </div>\n",
       "    <table border=\"1\" class=\"dataframe\">\n",
       "  <thead>\n",
       "    <tr style=\"text-align: left;\">\n",
       "      <th>Epoch</th>\n",
       "      <th>Training Loss</th>\n",
       "      <th>Validation Loss</th>\n",
       "      <th>Accuracy</th>\n",
       "      <th>F1</th>\n",
       "    </tr>\n",
       "  </thead>\n",
       "  <tbody>\n",
       "    <tr>\n",
       "      <td>1</td>\n",
       "      <td>0.084000</td>\n",
       "      <td>0.332428</td>\n",
       "      <td>0.903333</td>\n",
       "      <td>0.903744</td>\n",
       "    </tr>\n",
       "    <tr>\n",
       "      <td>2</td>\n",
       "      <td>0.062500</td>\n",
       "      <td>0.410031</td>\n",
       "      <td>0.904733</td>\n",
       "      <td>0.906005</td>\n",
       "    </tr>\n",
       "    <tr>\n",
       "      <td>3</td>\n",
       "      <td>0.056700</td>\n",
       "      <td>0.467877</td>\n",
       "      <td>0.905800</td>\n",
       "      <td>0.906788</td>\n",
       "    </tr>\n",
       "  </tbody>\n",
       "</table><p>"
      ],
      "text/plain": [
       "<IPython.core.display.HTML object>"
      ]
     },
     "metadata": {},
     "output_type": "display_data"
    },
    {
     "name": "stderr",
     "output_type": "stream",
     "text": [
      "Saving model checkpoint to /aiffel/aiffel/transformers/nsmc-klue-bert/checkpoint-500\n",
      "Configuration saved in /aiffel/aiffel/transformers/nsmc-klue-bert/checkpoint-500/config.json\n",
      "Model weights saved in /aiffel/aiffel/transformers/nsmc-klue-bert/checkpoint-500/pytorch_model.bin\n",
      "tokenizer config file saved in /aiffel/aiffel/transformers/nsmc-klue-bert/checkpoint-500/tokenizer_config.json\n",
      "Special tokens file saved in /aiffel/aiffel/transformers/nsmc-klue-bert/checkpoint-500/special_tokens_map.json\n",
      "Saving model checkpoint to /aiffel/aiffel/transformers/nsmc-klue-bert/checkpoint-1000\n",
      "Configuration saved in /aiffel/aiffel/transformers/nsmc-klue-bert/checkpoint-1000/config.json\n",
      "Model weights saved in /aiffel/aiffel/transformers/nsmc-klue-bert/checkpoint-1000/pytorch_model.bin\n",
      "tokenizer config file saved in /aiffel/aiffel/transformers/nsmc-klue-bert/checkpoint-1000/tokenizer_config.json\n",
      "Special tokens file saved in /aiffel/aiffel/transformers/nsmc-klue-bert/checkpoint-1000/special_tokens_map.json\n",
      "Saving model checkpoint to /aiffel/aiffel/transformers/nsmc-klue-bert/checkpoint-1500\n",
      "Configuration saved in /aiffel/aiffel/transformers/nsmc-klue-bert/checkpoint-1500/config.json\n",
      "Model weights saved in /aiffel/aiffel/transformers/nsmc-klue-bert/checkpoint-1500/pytorch_model.bin\n",
      "tokenizer config file saved in /aiffel/aiffel/transformers/nsmc-klue-bert/checkpoint-1500/tokenizer_config.json\n",
      "Special tokens file saved in /aiffel/aiffel/transformers/nsmc-klue-bert/checkpoint-1500/special_tokens_map.json\n",
      "Saving model checkpoint to /aiffel/aiffel/transformers/nsmc-klue-bert/checkpoint-2000\n",
      "Configuration saved in /aiffel/aiffel/transformers/nsmc-klue-bert/checkpoint-2000/config.json\n",
      "Model weights saved in /aiffel/aiffel/transformers/nsmc-klue-bert/checkpoint-2000/pytorch_model.bin\n",
      "tokenizer config file saved in /aiffel/aiffel/transformers/nsmc-klue-bert/checkpoint-2000/tokenizer_config.json\n",
      "Special tokens file saved in /aiffel/aiffel/transformers/nsmc-klue-bert/checkpoint-2000/special_tokens_map.json\n",
      "The following columns in the evaluation set  don't have a corresponding argument in `BertForSequenceClassification.forward` and have been ignored: id, document.\n",
      "***** Running Evaluation *****\n",
      "  Num examples = 15000\n",
      "  Batch size = 64\n",
      "Saving model checkpoint to /aiffel/aiffel/transformers/nsmc-klue-bert/checkpoint-2500\n",
      "Configuration saved in /aiffel/aiffel/transformers/nsmc-klue-bert/checkpoint-2500/config.json\n",
      "Model weights saved in /aiffel/aiffel/transformers/nsmc-klue-bert/checkpoint-2500/pytorch_model.bin\n",
      "tokenizer config file saved in /aiffel/aiffel/transformers/nsmc-klue-bert/checkpoint-2500/tokenizer_config.json\n",
      "Special tokens file saved in /aiffel/aiffel/transformers/nsmc-klue-bert/checkpoint-2500/special_tokens_map.json\n",
      "Saving model checkpoint to /aiffel/aiffel/transformers/nsmc-klue-bert/checkpoint-3000\n",
      "Configuration saved in /aiffel/aiffel/transformers/nsmc-klue-bert/checkpoint-3000/config.json\n",
      "Model weights saved in /aiffel/aiffel/transformers/nsmc-klue-bert/checkpoint-3000/pytorch_model.bin\n",
      "tokenizer config file saved in /aiffel/aiffel/transformers/nsmc-klue-bert/checkpoint-3000/tokenizer_config.json\n",
      "Special tokens file saved in /aiffel/aiffel/transformers/nsmc-klue-bert/checkpoint-3000/special_tokens_map.json\n",
      "Saving model checkpoint to /aiffel/aiffel/transformers/nsmc-klue-bert/checkpoint-3500\n",
      "Configuration saved in /aiffel/aiffel/transformers/nsmc-klue-bert/checkpoint-3500/config.json\n",
      "Model weights saved in /aiffel/aiffel/transformers/nsmc-klue-bert/checkpoint-3500/pytorch_model.bin\n",
      "tokenizer config file saved in /aiffel/aiffel/transformers/nsmc-klue-bert/checkpoint-3500/tokenizer_config.json\n",
      "Special tokens file saved in /aiffel/aiffel/transformers/nsmc-klue-bert/checkpoint-3500/special_tokens_map.json\n",
      "Saving model checkpoint to /aiffel/aiffel/transformers/nsmc-klue-bert/checkpoint-4000\n",
      "Configuration saved in /aiffel/aiffel/transformers/nsmc-klue-bert/checkpoint-4000/config.json\n",
      "Model weights saved in /aiffel/aiffel/transformers/nsmc-klue-bert/checkpoint-4000/pytorch_model.bin\n",
      "tokenizer config file saved in /aiffel/aiffel/transformers/nsmc-klue-bert/checkpoint-4000/tokenizer_config.json\n",
      "Special tokens file saved in /aiffel/aiffel/transformers/nsmc-klue-bert/checkpoint-4000/special_tokens_map.json\n",
      "The following columns in the evaluation set  don't have a corresponding argument in `BertForSequenceClassification.forward` and have been ignored: id, document.\n",
      "***** Running Evaluation *****\n",
      "  Num examples = 15000\n",
      "  Batch size = 64\n",
      "Saving model checkpoint to /aiffel/aiffel/transformers/nsmc-klue-bert/checkpoint-4500\n",
      "Configuration saved in /aiffel/aiffel/transformers/nsmc-klue-bert/checkpoint-4500/config.json\n",
      "Model weights saved in /aiffel/aiffel/transformers/nsmc-klue-bert/checkpoint-4500/pytorch_model.bin\n",
      "tokenizer config file saved in /aiffel/aiffel/transformers/nsmc-klue-bert/checkpoint-4500/tokenizer_config.json\n",
      "Special tokens file saved in /aiffel/aiffel/transformers/nsmc-klue-bert/checkpoint-4500/special_tokens_map.json\n",
      "Saving model checkpoint to /aiffel/aiffel/transformers/nsmc-klue-bert/checkpoint-5000\n",
      "Configuration saved in /aiffel/aiffel/transformers/nsmc-klue-bert/checkpoint-5000/config.json\n",
      "Model weights saved in /aiffel/aiffel/transformers/nsmc-klue-bert/checkpoint-5000/pytorch_model.bin\n",
      "tokenizer config file saved in /aiffel/aiffel/transformers/nsmc-klue-bert/checkpoint-5000/tokenizer_config.json\n",
      "Special tokens file saved in /aiffel/aiffel/transformers/nsmc-klue-bert/checkpoint-5000/special_tokens_map.json\n",
      "Saving model checkpoint to /aiffel/aiffel/transformers/nsmc-klue-bert/checkpoint-5500\n",
      "Configuration saved in /aiffel/aiffel/transformers/nsmc-klue-bert/checkpoint-5500/config.json\n",
      "Model weights saved in /aiffel/aiffel/transformers/nsmc-klue-bert/checkpoint-5500/pytorch_model.bin\n",
      "tokenizer config file saved in /aiffel/aiffel/transformers/nsmc-klue-bert/checkpoint-5500/tokenizer_config.json\n",
      "Special tokens file saved in /aiffel/aiffel/transformers/nsmc-klue-bert/checkpoint-5500/special_tokens_map.json\n",
      "Saving model checkpoint to /aiffel/aiffel/transformers/nsmc-klue-bert/checkpoint-6000\n",
      "Configuration saved in /aiffel/aiffel/transformers/nsmc-klue-bert/checkpoint-6000/config.json\n",
      "Model weights saved in /aiffel/aiffel/transformers/nsmc-klue-bert/checkpoint-6000/pytorch_model.bin\n",
      "tokenizer config file saved in /aiffel/aiffel/transformers/nsmc-klue-bert/checkpoint-6000/tokenizer_config.json\n",
      "Special tokens file saved in /aiffel/aiffel/transformers/nsmc-klue-bert/checkpoint-6000/special_tokens_map.json\n",
      "The following columns in the evaluation set  don't have a corresponding argument in `BertForSequenceClassification.forward` and have been ignored: id, document.\n",
      "***** Running Evaluation *****\n",
      "  Num examples = 15000\n",
      "  Batch size = 64\n",
      "\n",
      "\n",
      "Training completed. Do not forget to share your model on huggingface.co/models =)\n",
      "\n",
      "\n"
     ]
    },
    {
     "data": {
      "text/plain": [
       "TrainOutput(global_step=6330, training_loss=0.06771285311682342, metrics={'train_runtime': 7083.0432, 'train_samples_per_second': 57.179, 'train_steps_per_second': 0.894, 'total_flos': 1.56093716925e+16, 'train_loss': 0.06771285311682342, 'epoch': 3.0})"
      ]
     },
     "execution_count": 25,
     "metadata": {},
     "output_type": "execute_result"
    }
   ],
   "source": [
    "# 5. 학습 시작 (Bucketing + Dynamic Padding 적용)\n",
    "trainer_bucketing.train()"
   ]
  },
  {
   "cell_type": "code",
   "execution_count": 26,
   "id": "8dc766ab",
   "metadata": {},
   "outputs": [
    {
     "name": "stderr",
     "output_type": "stream",
     "text": [
      "No `TrainingArguments` passed, using `output_dir=tmp_trainer`.\n",
      "PyTorch: setting up devices\n",
      "The default value for the training argument `--report_to` will change in v5 (from all installed integrations to none). In v5, you will need to use `--report_to all` to get the same behavior as now. You should start updating your code and make this info disappear :-).\n",
      "The following columns in the evaluation set  don't have a corresponding argument in `BertForSequenceClassification.forward` and have been ignored: id, document.\n",
      "***** Running Evaluation *****\n",
      "  Num examples = 50000\n",
      "  Batch size = 8\n"
     ]
    },
    {
     "data": {
      "text/html": [
       "\n",
       "    <div>\n",
       "      \n",
       "      <progress value='6250' max='6250' style='width:300px; height:20px; vertical-align: middle;'></progress>\n",
       "      [6250/6250 05:23]\n",
       "    </div>\n",
       "    "
      ],
      "text/plain": [
       "<IPython.core.display.HTML object>"
      ]
     },
     "metadata": {},
     "output_type": "display_data"
    },
    {
     "name": "stdout",
     "output_type": "stream",
     "text": [
      "📌 Test Evaluation Result:\n",
      "{'eval_loss': 0.47763878107070923, 'eval_accuracy': 0.9001, 'eval_f1': 0.9015356107946146, 'eval_runtime': 324.192, 'eval_samples_per_second': 154.23, 'eval_steps_per_second': 19.279}\n"
     ]
    }
   ],
   "source": [
    "from transformers import Trainer\n",
    "\n",
    "# test set 평가용 Trainer 생성\n",
    "test_trainer = Trainer(\n",
    "    model=trainer_bucketing.model,  # 학습된 모델 사용\n",
    "    tokenizer=tokenizer,            # 이전에 저장해둔 tokenizer\n",
    "    compute_metrics=compute_metrics # 평가 지표 함수\n",
    ")\n",
    "\n",
    "# 테스트셋 평가\n",
    "test_result = test_trainer.evaluate(hf_test_dataset)\n",
    "print(\"📌 Test Evaluation Result:\")\n",
    "print(test_result)"
   ]
  },
  {
   "cell_type": "markdown",
   "id": "e50ae0e2",
   "metadata": {},
   "source": [
    "# ✅체크포인트 : Bucket + Dynamic Padding\n",
    "\n",
    "---\n",
    "\n",
    "**Bucket + Dynamic Padding**\n",
    "\n",
    "`eval_accuracy: 0.9001\n",
    "eval_f1      : 0.9015\n",
    "eval_runtime : 324.192`\n",
    "\n",
    "**기존**\n",
    "\n",
    "`'eval_accuracy': 0.90454\n",
    "'eval_f1': 0.9059\n",
    "'eval_runtime': 322.0676`\n",
    "\n",
    "큰차이가 없음.\n",
    "\n",
    "그런데 팀원들과 얘기를 해보았을 때 달라서 Config 확인만 해보자\n",
    "\n"
   ]
  },
  {
   "cell_type": "code",
   "execution_count": 34,
   "id": "18611c42",
   "metadata": {},
   "outputs": [
    {
     "name": "stderr",
     "output_type": "stream",
     "text": [
      "loading configuration file https://huggingface.co/klue/bert-base/resolve/main/config.json from cache at /aiffel/.cache/huggingface/transformers/fbd0b2ef898c4653902683fea8cc0dd99bf43f0e082645b913cda3b92429d1bb.99b3298ed554f2ad731c27cdb11a6215f39b90bc845ff5ce709bb4e74ba45621\n",
      "Model config BertConfig {\n",
      "  \"architectures\": [\n",
      "    \"BertForMaskedLM\"\n",
      "  ],\n",
      "  \"attention_probs_dropout_prob\": 0.1,\n",
      "  \"classifier_dropout\": null,\n",
      "  \"hidden_act\": \"gelu\",\n",
      "  \"hidden_dropout_prob\": 0.1,\n",
      "  \"hidden_size\": 768,\n",
      "  \"initializer_range\": 0.02,\n",
      "  \"intermediate_size\": 3072,\n",
      "  \"layer_norm_eps\": 1e-12,\n",
      "  \"max_position_embeddings\": 512,\n",
      "  \"model_type\": \"bert\",\n",
      "  \"num_attention_heads\": 12,\n",
      "  \"num_hidden_layers\": 12,\n",
      "  \"pad_token_id\": 0,\n",
      "  \"position_embedding_type\": \"absolute\",\n",
      "  \"transformers_version\": \"4.11.3\",\n",
      "  \"type_vocab_size\": 2,\n",
      "  \"use_cache\": true,\n",
      "  \"vocab_size\": 32000\n",
      "}\n",
      "\n",
      "loading weights file https://huggingface.co/klue/bert-base/resolve/main/pytorch_model.bin from cache at /aiffel/.cache/huggingface/transformers/05b36ee62545d769939a7746eca739b844a40a7a7553700f110b58b28ed6a949.7cb231256a5dbe886e12b902d05cb1241f330d8c19428508f91b2b28c1cfe0b6\n",
      "Some weights of the model checkpoint at klue/bert-base were not used when initializing BertForSequenceClassification: ['cls.predictions.decoder.bias', 'cls.seq_relationship.bias', 'cls.predictions.bias', 'cls.predictions.decoder.weight', 'cls.predictions.transform.LayerNorm.weight', 'cls.seq_relationship.weight', 'cls.predictions.transform.LayerNorm.bias', 'cls.predictions.transform.dense.weight', 'cls.predictions.transform.dense.bias']\n",
      "- This IS expected if you are initializing BertForSequenceClassification from the checkpoint of a model trained on another task or with another architecture (e.g. initializing a BertForSequenceClassification model from a BertForPreTraining model).\n",
      "- This IS NOT expected if you are initializing BertForSequenceClassification from the checkpoint of a model that you expect to be exactly identical (initializing a BertForSequenceClassification model from a BertForSequenceClassification model).\n",
      "Some weights of BertForSequenceClassification were not initialized from the model checkpoint at klue/bert-base and are newly initialized: ['classifier.weight', 'classifier.bias']\n",
      "You should probably TRAIN this model on a down-stream task to be able to use it for predictions and inference.\n"
     ]
    },
    {
     "name": "stdout",
     "output_type": "stream",
     "text": [
      "{'_name_or_path': 'klue/bert-base',\n",
      " 'add_cross_attention': False,\n",
      " 'architectures': ['BertForMaskedLM'],\n",
      " 'attention_probs_dropout_prob': 0.1,\n",
      " 'bad_words_ids': None,\n",
      " 'bos_token_id': None,\n",
      " 'chunk_size_feed_forward': 0,\n",
      " 'classifier_dropout': None,\n",
      " 'decoder_start_token_id': None,\n",
      " 'diversity_penalty': 0.0,\n",
      " 'do_sample': False,\n",
      " 'early_stopping': False,\n",
      " 'encoder_no_repeat_ngram_size': 0,\n",
      " 'eos_token_id': None,\n",
      " 'finetuning_task': None,\n",
      " 'forced_bos_token_id': None,\n",
      " 'forced_eos_token_id': None,\n",
      " 'hidden_act': 'gelu',\n",
      " 'hidden_dropout_prob': 0.1,\n",
      " 'hidden_size': 768,\n",
      " 'id2label': {0: 'LABEL_0', 1: 'LABEL_1'},\n",
      " 'initializer_range': 0.02,\n",
      " 'intermediate_size': 3072,\n",
      " 'is_decoder': False,\n",
      " 'is_encoder_decoder': False,\n",
      " 'label2id': {'LABEL_0': 0, 'LABEL_1': 1},\n",
      " 'layer_norm_eps': 1e-12,\n",
      " 'length_penalty': 1.0,\n",
      " 'max_length': 20,\n",
      " 'max_position_embeddings': 512,\n",
      " 'min_length': 0,\n",
      " 'model_type': 'bert',\n",
      " 'no_repeat_ngram_size': 0,\n",
      " 'num_attention_heads': 12,\n",
      " 'num_beam_groups': 1,\n",
      " 'num_beams': 1,\n",
      " 'num_hidden_layers': 12,\n",
      " 'num_return_sequences': 1,\n",
      " 'output_attentions': False,\n",
      " 'output_hidden_states': False,\n",
      " 'output_scores': False,\n",
      " 'pad_token_id': 0,\n",
      " 'position_embedding_type': 'absolute',\n",
      " 'prefix': None,\n",
      " 'problem_type': None,\n",
      " 'pruned_heads': {},\n",
      " 'remove_invalid_values': False,\n",
      " 'repetition_penalty': 1.0,\n",
      " 'return_dict': True,\n",
      " 'return_dict_in_generate': False,\n",
      " 'sep_token_id': None,\n",
      " 'task_specific_params': None,\n",
      " 'temperature': 1.0,\n",
      " 'tie_encoder_decoder': False,\n",
      " 'tie_word_embeddings': True,\n",
      " 'tokenizer_class': None,\n",
      " 'top_k': 50,\n",
      " 'top_p': 1.0,\n",
      " 'torch_dtype': None,\n",
      " 'torchscript': False,\n",
      " 'transformers_version': '4.11.3',\n",
      " 'type_vocab_size': 2,\n",
      " 'use_bfloat16': False,\n",
      " 'use_cache': True,\n",
      " 'vocab_size': 32000}\n"
     ]
    }
   ],
   "source": [
    "from transformers import AutoModelForSequenceClassification\n",
    "\n",
    "model = AutoModelForSequenceClassification.from_pretrained(\"klue/bert-base\")\n",
    "config = model.config\n",
    "\n",
    "from pprint import pprint\n",
    "pprint(config.to_dict())"
   ]
  },
  {
   "cell_type": "markdown",
   "id": "e0f27f93",
   "metadata": {},
   "source": [
    "# ✅Out of Memory \n",
    "\n",
    "---\n",
    "\n",
    "1. 비운상태\n",
    "\n",
    "`\n",
    "Total memory     : 14.56 GB\n",
    "Allocated memory : 0.83 GB\n",
    "Reserved memory  : 1.27 GB\n",
    "Usage ratio      : 5.7 %\n",
    "`\n",
    "\n",
    "2. 데이터 로드 후\n",
    "\n",
    "\n",
    "`\n",
    "Total memory     : 14.56 GB\n",
    "Allocated memory : 0.83 GB\n",
    "Reserved memory  : 1.27 GB\n",
    "Usage ratio      : 5.7 %\n",
    "`\n",
    "\n",
    "3. 리스타트해서 마지막에 필요한 것들만 쏙쏙 빼먹음.\n",
    "\n",
    "```python\n",
    "# Hugging Face의 transformers 라이브러리에서 필요한 클래스 불러오기\n",
    "import transformers\n",
    "from transformers import AutoTokenizer, AutoModelForSequenceClassification\n",
    "\n",
    "# 🔹 1. Tokenizer 불러오기\n",
    "\n",
    "huggingface_tokenizer = AutoTokenizer.from_pretrained('./nsmc-klue-bert-finetuned')\n",
    "\n",
    "# 🔹 2. 모델 불러오기 (분류용)\n",
    "\n",
    "huggingface_model = AutoModelForSequenceClassification.from_pretrained(\n",
    "    './nsmc-klue-bert-finetuned',  # 사전 학습된 klue/bert-base 모델 사용\n",
    "    num_labels=2                # 출력 클래스 수: 2개 (0 또는 1)\n",
    ")\n",
    "```\n",
    "\n",
    "여기서 klue-bert-finetuned 만 가져옴.\n"
   ]
  },
  {
   "cell_type": "code",
   "execution_count": 27,
   "id": "1676e88a",
   "metadata": {},
   "outputs": [],
   "source": [
    "# import gc\n",
    "# import torch\n",
    "\n",
    "# # 삭제하려는 변수 리스트\n",
    "# vars_to_delete = [\n",
    "#     'huggingface_model', 'model',\n",
    "#     'trainer', 'trainer_bucketing',\n",
    "#     'hf_train_dataset', 'hf_val_dataset', 'hf_test_dataset'\n",
    "# ]\n",
    "\n",
    "# # 존재하는 변수만 안전하게 제거\n",
    "# for var_name in vars_to_delete:\n",
    "#     try:\n",
    "#         del globals()[var_name]\n",
    "#     except KeyError:\n",
    "#         pass  # 존재하지 않는 변수면 무시\n",
    "\n",
    "# # Python 가비지 컬렉션 실행\n",
    "# gc.collect()\n",
    "\n",
    "# # PyTorch 캐시 메모리 비우기\n",
    "# torch.cuda.empty_cache()"
   ]
  },
  {
   "cell_type": "code",
   "execution_count": 28,
   "id": "d85b4ffb",
   "metadata": {},
   "outputs": [
    {
     "name": "stdout",
     "output_type": "stream",
     "text": [
      "Total memory     : 14.56 GB\n",
      "Allocated memory : 1.66 GB\n",
      "Reserved memory  : 5.57 GB\n",
      "Usage ratio      : 11.4 %\n"
     ]
    }
   ],
   "source": [
    "import torch\n",
    "# 현재 GPU의 ID (보통 0번)\n",
    "gpu_id = 0\n",
    "\n",
    "# 총 메모리\n",
    "total = torch.cuda.get_device_properties(gpu_id).total_memory\n",
    "\n",
    "# 현재 할당된 메모리\n",
    "allocated = torch.cuda.memory_allocated(gpu_id)\n",
    "\n",
    "# 현재 캐시된 메모리 (reserved)\n",
    "reserved = torch.cuda.memory_reserved(gpu_id)\n",
    "\n",
    "print(f\"Total memory     : {total / 1024**3:.2f} GB\")\n",
    "print(f\"Allocated memory : {allocated / 1024**3:.2f} GB\")\n",
    "print(f\"Reserved memory  : {reserved / 1024**3:.2f} GB\")\n",
    "print(f\"Usage ratio      : {allocated / total * 100:.1f} %\")"
   ]
  },
  {
   "cell_type": "code",
   "execution_count": null,
   "id": "d0c0e4a3",
   "metadata": {},
   "outputs": [],
   "source": []
  }
 ],
 "metadata": {
  "kernelspec": {
   "display_name": "Python 3 (ipykernel)",
   "language": "python",
   "name": "python3"
  },
  "language_info": {
   "codemirror_mode": {
    "name": "ipython",
    "version": 3
   },
   "file_extension": ".py",
   "mimetype": "text/x-python",
   "name": "python",
   "nbconvert_exporter": "python",
   "pygments_lexer": "ipython3",
   "version": "3.9.7"
  }
 },
 "nbformat": 4,
 "nbformat_minor": 5
}
