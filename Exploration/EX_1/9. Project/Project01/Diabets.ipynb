{
 "cells": [
  {
   "cell_type": "code",
   "execution_count": 40,
   "metadata": {},
   "outputs": [
    {
     "name": "stdout",
     "output_type": "stream",
     "text": [
      "dict_keys(['data', 'target', 'frame', 'DESCR', 'feature_names', 'data_filename', 'target_filename', 'data_module'])\n"
     ]
    }
   ],
   "source": [
    "from sklearn.datasets import load_diabetes\n",
    "\n",
    "diabetes = load_diabetes()\n",
    "print(diabetes.keys())\n"
   ]
  },
  {
   "cell_type": "code",
   "execution_count": 41,
   "metadata": {},
   "outputs": [
    {
     "name": "stdout",
     "output_type": "stream",
     "text": [
      "['age', 'sex', 'bmi', 'bp', 's1', 's2', 's3', 's4', 's5', 's6']\n"
     ]
    }
   ],
   "source": [
    "print(diabetes.feature_names)"
   ]
  },
  {
   "cell_type": "code",
   "execution_count": 42,
   "metadata": {},
   "outputs": [
    {
     "name": "stdout",
     "output_type": "stream",
     "text": [
      "(442, 10)\n",
      "(442,)\n"
     ]
    },
    {
     "data": {
      "text/html": [
       "<div>\n",
       "<style scoped>\n",
       "    .dataframe tbody tr th:only-of-type {\n",
       "        vertical-align: middle;\n",
       "    }\n",
       "\n",
       "    .dataframe tbody tr th {\n",
       "        vertical-align: top;\n",
       "    }\n",
       "\n",
       "    .dataframe thead th {\n",
       "        text-align: right;\n",
       "    }\n",
       "</style>\n",
       "<table border=\"1\" class=\"dataframe\">\n",
       "  <thead>\n",
       "    <tr style=\"text-align: right;\">\n",
       "      <th></th>\n",
       "      <th>age</th>\n",
       "      <th>sex</th>\n",
       "      <th>bmi</th>\n",
       "      <th>bp</th>\n",
       "      <th>s1</th>\n",
       "      <th>s2</th>\n",
       "      <th>s3</th>\n",
       "      <th>s4</th>\n",
       "      <th>s5</th>\n",
       "      <th>s6</th>\n",
       "    </tr>\n",
       "  </thead>\n",
       "  <tbody>\n",
       "    <tr>\n",
       "      <th>0</th>\n",
       "      <td>0.038076</td>\n",
       "      <td>0.050680</td>\n",
       "      <td>0.061696</td>\n",
       "      <td>0.021872</td>\n",
       "      <td>-0.044223</td>\n",
       "      <td>-0.034821</td>\n",
       "      <td>-0.043401</td>\n",
       "      <td>-0.002592</td>\n",
       "      <td>0.019907</td>\n",
       "      <td>-0.017646</td>\n",
       "    </tr>\n",
       "    <tr>\n",
       "      <th>1</th>\n",
       "      <td>-0.001882</td>\n",
       "      <td>-0.044642</td>\n",
       "      <td>-0.051474</td>\n",
       "      <td>-0.026328</td>\n",
       "      <td>-0.008449</td>\n",
       "      <td>-0.019163</td>\n",
       "      <td>0.074412</td>\n",
       "      <td>-0.039493</td>\n",
       "      <td>-0.068332</td>\n",
       "      <td>-0.092204</td>\n",
       "    </tr>\n",
       "    <tr>\n",
       "      <th>2</th>\n",
       "      <td>0.085299</td>\n",
       "      <td>0.050680</td>\n",
       "      <td>0.044451</td>\n",
       "      <td>-0.005670</td>\n",
       "      <td>-0.045599</td>\n",
       "      <td>-0.034194</td>\n",
       "      <td>-0.032356</td>\n",
       "      <td>-0.002592</td>\n",
       "      <td>0.002861</td>\n",
       "      <td>-0.025930</td>\n",
       "    </tr>\n",
       "    <tr>\n",
       "      <th>3</th>\n",
       "      <td>-0.089063</td>\n",
       "      <td>-0.044642</td>\n",
       "      <td>-0.011595</td>\n",
       "      <td>-0.036656</td>\n",
       "      <td>0.012191</td>\n",
       "      <td>0.024991</td>\n",
       "      <td>-0.036038</td>\n",
       "      <td>0.034309</td>\n",
       "      <td>0.022688</td>\n",
       "      <td>-0.009362</td>\n",
       "    </tr>\n",
       "    <tr>\n",
       "      <th>4</th>\n",
       "      <td>0.005383</td>\n",
       "      <td>-0.044642</td>\n",
       "      <td>-0.036385</td>\n",
       "      <td>0.021872</td>\n",
       "      <td>0.003935</td>\n",
       "      <td>0.015596</td>\n",
       "      <td>0.008142</td>\n",
       "      <td>-0.002592</td>\n",
       "      <td>-0.031988</td>\n",
       "      <td>-0.046641</td>\n",
       "    </tr>\n",
       "  </tbody>\n",
       "</table>\n",
       "</div>"
      ],
      "text/plain": [
       "        age       sex       bmi        bp        s1        s2        s3  \\\n",
       "0  0.038076  0.050680  0.061696  0.021872 -0.044223 -0.034821 -0.043401   \n",
       "1 -0.001882 -0.044642 -0.051474 -0.026328 -0.008449 -0.019163  0.074412   \n",
       "2  0.085299  0.050680  0.044451 -0.005670 -0.045599 -0.034194 -0.032356   \n",
       "3 -0.089063 -0.044642 -0.011595 -0.036656  0.012191  0.024991 -0.036038   \n",
       "4  0.005383 -0.044642 -0.036385  0.021872  0.003935  0.015596  0.008142   \n",
       "\n",
       "         s4        s5        s6  \n",
       "0 -0.002592  0.019907 -0.017646  \n",
       "1 -0.039493 -0.068332 -0.092204  \n",
       "2 -0.002592  0.002861 -0.025930  \n",
       "3  0.034309  0.022688 -0.009362  \n",
       "4 -0.002592 -0.031988 -0.046641  "
      ]
     },
     "execution_count": 42,
     "metadata": {},
     "output_type": "execute_result"
    }
   ],
   "source": [
    "import pandas as pd\n",
    "from sklearn.datasets import load_diabetes\n",
    "\n",
    "# 데이터 불러오기\n",
    "diabetes = load_diabetes()\n",
    "\n",
    "# 피처(X), 타깃(y) 분리\n",
    "df_X = pd.DataFrame(diabetes.data, columns=diabetes.feature_names)\n",
    "df_y = pd.Series(diabetes.target)\n",
    "\n",
    "# 확인\n",
    "print(df_X.shape)  # (442, 10)\n",
    "print(df_y.shape)  # (442,)\n",
    "df_X.head()\n",
    "\n",
    "# target 은 당뇨병 진행정도를 뜻합니다. 정규화 되어 있지 않음.\n"
   ]
  },
  {
   "cell_type": "code",
   "execution_count": 43,
   "metadata": {},
   "outputs": [
    {
     "name": "stdout",
     "output_type": "stream",
     "text": [
      "(442, 10)\n",
      "(442,)\n"
     ]
    }
   ],
   "source": [
    "# df_x \n",
    "X = df_X.values\n",
    "y = df_y.values\n",
    "y = y/360\n",
    "\n",
    "print(X.shape)\n",
    "print(y.shape)"
   ]
  },
  {
   "cell_type": "code",
   "execution_count": 44,
   "metadata": {},
   "outputs": [
    {
     "name": "stdout",
     "output_type": "stream",
     "text": [
      "(353, 10)\n",
      "(89, 10)\n",
      "(353,)\n",
      "(89,)\n"
     ]
    }
   ],
   "source": [
    "from sklearn.model_selection import train_test_split\n",
    "\n",
    "# 80% train, 20% test\n",
    "X_train, X_test, y_train, y_test = train_test_split(X, y, test_size=0.2, random_state=42)\n",
    "\n",
    "print(X_train.shape)\n",
    "print(X_test.shape)\n",
    "print(y_train.shape)\n",
    "print(y_test.shape)"
   ]
  },
  {
   "cell_type": "code",
   "execution_count": 45,
   "metadata": {},
   "outputs": [],
   "source": [
    "import numpy as np\n",
    "\n",
    "W = np.random.rand(X_train.shape[1])  # shape: (10,)\n",
    "b = np.random.rand()                  # 스칼라"
   ]
  },
  {
   "cell_type": "code",
   "execution_count": 46,
   "metadata": {},
   "outputs": [
    {
     "name": "stdout",
     "output_type": "stream",
     "text": [
      "[ 0.27677984  0.1461548   0.07305626 -0.07541083 -0.05817945]\n"
     ]
    }
   ],
   "source": [
    "def model(X, W, b):\n",
    "    predictions = []\n",
    "    for i in range(X.shape[0]):  # 샘플 수만큼 반복\n",
    "        y_pred = 0\n",
    "        for j in range(len(W)):  # 특성 수만큼 반복\n",
    "            y_pred += X[i][j] * W[j]\n",
    "        y_pred += b\n",
    "        predictions.append(y_pred)\n",
    "    return np.array(predictions)\n",
    "\n",
    "y_pred = model(X_train, W, b)\n",
    "print(y_pred[:5])\n"
   ]
  },
  {
   "cell_type": "code",
   "execution_count": 47,
   "metadata": {},
   "outputs": [],
   "source": [
    "def MSE(y_true, y_pred):\n",
    "    return ((y_true - y_pred) ** 2).mean()"
   ]
  },
  {
   "cell_type": "code",
   "execution_count": 48,
   "metadata": {},
   "outputs": [
    {
     "name": "stdout",
     "output_type": "stream",
     "text": [
      "슝=3\n"
     ]
    }
   ],
   "source": [
    "def loss(X, W, b, y):\n",
    "    predictions = model(X, W, b)\n",
    "    L = MSE(predictions, y)\n",
    "    return L\n",
    "print(\"슝=3\")"
   ]
  },
  {
   "cell_type": "code",
   "execution_count": 49,
   "metadata": {},
   "outputs": [],
   "source": [
    "def gradient(X, y, W, b):\n",
    "    N = len(y)\n",
    "    y_pred = model(X, W, b)\n",
    "    \n",
    "    # W에 대한 기울기: (10,) 벡터\n",
    "    dW = (2 / N) * X.T.dot(y_pred - y)\n",
    "    \n",
    "    # b에 대한 기울기: 스칼라\n",
    "    db = 2 * (y_pred - y).mean()\n",
    "    \n",
    "    return dW, db\n"
   ]
  },
  {
   "cell_type": "code",
   "execution_count": 50,
   "metadata": {},
   "outputs": [],
   "source": [
    "W = np.random.rand(X_train.shape[1])  # 가중치\n",
    "b = np.random.rand()                  # 편향\n",
    "LEARNING_RATE = 0.01                  # 학습률\n"
   ]
  },
  {
   "cell_type": "code",
   "execution_count": 51,
   "metadata": {},
   "outputs": [
    {
     "name": "stdout",
     "output_type": "stream",
     "text": [
      "Epoch 1, Loss: 0.1305\n",
      "Epoch 100, Loss: 0.0423\n",
      "Epoch 200, Loss: 0.0404\n",
      "Epoch 300, Loss: 0.0402\n",
      "Epoch 400, Loss: 0.0400\n",
      "Epoch 500, Loss: 0.0399\n",
      "Epoch 600, Loss: 0.0397\n",
      "Epoch 700, Loss: 0.0395\n",
      "Epoch 800, Loss: 0.0393\n",
      "Epoch 900, Loss: 0.0392\n",
      "Epoch 1000, Loss: 0.0390\n",
      "Epoch 1100, Loss: 0.0388\n",
      "Epoch 1200, Loss: 0.0386\n",
      "Epoch 1300, Loss: 0.0385\n",
      "Epoch 1400, Loss: 0.0383\n",
      "Epoch 1500, Loss: 0.0382\n",
      "Epoch 1600, Loss: 0.0380\n",
      "Epoch 1700, Loss: 0.0378\n",
      "Epoch 1800, Loss: 0.0377\n",
      "Epoch 1900, Loss: 0.0375\n",
      "Epoch 2000, Loss: 0.0374\n",
      "Epoch 2100, Loss: 0.0372\n",
      "Epoch 2200, Loss: 0.0371\n",
      "Epoch 2300, Loss: 0.0369\n",
      "Epoch 2400, Loss: 0.0368\n",
      "Epoch 2500, Loss: 0.0366\n",
      "Epoch 2600, Loss: 0.0365\n",
      "Epoch 2700, Loss: 0.0363\n",
      "Epoch 2800, Loss: 0.0362\n",
      "Epoch 2900, Loss: 0.0361\n",
      "Epoch 3000, Loss: 0.0359\n",
      "Epoch 3100, Loss: 0.0358\n",
      "Epoch 3200, Loss: 0.0357\n",
      "Epoch 3300, Loss: 0.0355\n",
      "Epoch 3400, Loss: 0.0354\n",
      "Epoch 3500, Loss: 0.0353\n",
      "Epoch 3600, Loss: 0.0351\n",
      "Epoch 3700, Loss: 0.0350\n",
      "Epoch 3800, Loss: 0.0349\n",
      "Epoch 3900, Loss: 0.0348\n",
      "Epoch 4000, Loss: 0.0346\n",
      "Epoch 4100, Loss: 0.0345\n",
      "Epoch 4200, Loss: 0.0344\n",
      "Epoch 4300, Loss: 0.0343\n",
      "Epoch 4400, Loss: 0.0342\n",
      "Epoch 4500, Loss: 0.0340\n",
      "Epoch 4600, Loss: 0.0339\n",
      "Epoch 4700, Loss: 0.0338\n",
      "Epoch 4800, Loss: 0.0337\n",
      "Epoch 4900, Loss: 0.0336\n",
      "Epoch 5000, Loss: 0.0335\n",
      "Epoch 5100, Loss: 0.0334\n",
      "Epoch 5200, Loss: 0.0333\n",
      "Epoch 5300, Loss: 0.0332\n",
      "Epoch 5400, Loss: 0.0330\n",
      "Epoch 5500, Loss: 0.0329\n",
      "Epoch 5600, Loss: 0.0328\n",
      "Epoch 5700, Loss: 0.0327\n",
      "Epoch 5800, Loss: 0.0326\n",
      "Epoch 5900, Loss: 0.0325\n",
      "Epoch 6000, Loss: 0.0324\n",
      "Epoch 6100, Loss: 0.0323\n",
      "Epoch 6200, Loss: 0.0322\n",
      "Epoch 6300, Loss: 0.0321\n",
      "Epoch 6400, Loss: 0.0321\n",
      "Epoch 6500, Loss: 0.0320\n",
      "Epoch 6600, Loss: 0.0319\n",
      "Epoch 6700, Loss: 0.0318\n",
      "Epoch 6800, Loss: 0.0317\n",
      "Epoch 6900, Loss: 0.0316\n",
      "Epoch 7000, Loss: 0.0315\n",
      "Epoch 7100, Loss: 0.0314\n",
      "Epoch 7200, Loss: 0.0313\n",
      "Epoch 7300, Loss: 0.0312\n",
      "Epoch 7400, Loss: 0.0312\n",
      "Epoch 7500, Loss: 0.0311\n",
      "Epoch 7600, Loss: 0.0310\n",
      "Epoch 7700, Loss: 0.0309\n",
      "Epoch 7800, Loss: 0.0308\n",
      "Epoch 7900, Loss: 0.0307\n",
      "Epoch 8000, Loss: 0.0307\n",
      "Epoch 8100, Loss: 0.0306\n",
      "Epoch 8200, Loss: 0.0305\n",
      "Epoch 8300, Loss: 0.0304\n",
      "Epoch 8400, Loss: 0.0304\n",
      "Epoch 8500, Loss: 0.0303\n",
      "Epoch 8600, Loss: 0.0302\n",
      "Epoch 8700, Loss: 0.0301\n",
      "Epoch 8800, Loss: 0.0301\n",
      "Epoch 8900, Loss: 0.0300\n",
      "Epoch 9000, Loss: 0.0299\n",
      "Epoch 9100, Loss: 0.0298\n",
      "Epoch 9200, Loss: 0.0298\n",
      "Epoch 9300, Loss: 0.0297\n",
      "Epoch 9400, Loss: 0.0296\n",
      "Epoch 9500, Loss: 0.0296\n",
      "Epoch 9600, Loss: 0.0295\n",
      "Epoch 9700, Loss: 0.0294\n",
      "Epoch 9800, Loss: 0.0294\n",
      "Epoch 9900, Loss: 0.0293\n",
      "Epoch 10000, Loss: 0.0292\n"
     ]
    }
   ],
   "source": [
    "EPOCHS = 10000  # 반복 횟수\n",
    "loss_list = []  # 손실 값 저장용\n",
    "\n",
    "for i in range(1, EPOCHS + 1):\n",
    "    y_pred = model(X_train, W, b)\n",
    "    loss = MSE(y_train, y_pred)\n",
    "    \n",
    "    dW, db = gradient(X_train, y_train, W, b)\n",
    "    \n",
    "    # 경사 하강법으로 W, b 업데이트\n",
    "    W -= LEARNING_RATE * dW\n",
    "    b -= LEARNING_RATE * db\n",
    "    \n",
    "    loss_list.append(loss)\n",
    "\n",
    "    # 100번마다 출력\n",
    "    if i % 100 == 0 or i == 1:\n",
    "        print(f\"Epoch {i}, Loss: {loss:.4f}\")\n"
   ]
  },
  {
   "cell_type": "code",
   "execution_count": 52,
   "metadata": {},
   "outputs": [
    {
     "name": "stdout",
     "output_type": "stream",
     "text": [
      "📉 테스트 데이터 손실 (MSE): 0.026420196081859047\n"
     ]
    }
   ],
   "source": [
    "y_test_pred = model(X_test, W, b)\n",
    "test_loss = MSE(y_test, y_test_pred)\n",
    "print(\"📉 테스트 데이터 손실 (MSE):\", test_loss)\n"
   ]
  },
  {
   "cell_type": "code",
   "execution_count": 54,
   "metadata": {},
   "outputs": [
    {
     "data": {
      "image/png": "[encoded data removed]",
      "text/plain": [
       "<Figure size 800x500 with 1 Axes>"
      ]
     },
     "metadata": {},
     "output_type": "display_data"
    }
   ],
   "source": [
    "import matplotlib.pyplot as plt\n",
    "\n",
    "plt.figure(figsize=(8, 5))\n",
    "plt.scatter(X_test[:, 0], y_test, label='True Value', alpha=0.7)\n",
    "plt.scatter(X_test[:, 0], y_test_pred, label='Prediction', alpha=0.7)\n",
    "plt.title(\"True vs Predicted Values (Based on First Feature)\")\n",
    "plt.xlabel(\"X_test First Feature (e.g., age)\")\n",
    "plt.ylabel(\"Target (Disease Progression)\")\n",
    "plt.legend()\n",
    "plt.grid(True)\n",
    "plt.show()\n"
   ]
  }
 ],
 "metadata": {
  "kernelspec": {
   "display_name": "Python 3",
   "language": "python",
   "name": "python3"
  },
  "language_info": {
   "codemirror_mode": {
    "name": "ipython",
    "version": 3
   },
   "file_extension": ".py",
   "mimetype": "text/x-python",
   "name": "python",
   "nbconvert_exporter": "python",
   "pygments_lexer": "ipython3",
   "version": "3.11.9"
  }
 },
 "nbformat": 4,
 "nbformat_minor": 2
}
