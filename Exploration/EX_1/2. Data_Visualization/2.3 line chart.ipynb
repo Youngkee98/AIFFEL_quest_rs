{
 "cells": [
  {
   "cell_type": "markdown",
   "metadata": {},
   "source": [
    "# 📈 간단한 선 그래프 그려보기\n",
    "이번에는 matplotlib을 이용해 선(line) 그래프를 그려보겠습니다."
   ]
  },
  {
   "cell_type": "code",
   "execution_count": null,
   "metadata": {},
   "outputs": [],
   "source": [
    "from datetime import datetime\n",
    "import pandas as pd\n"
   ]
  },
  {
   "cell_type": "markdown",
   "metadata": {},
   "source": [
    "```mermaid\n",
    "graph TD\n",
    "    A[📤 모델 예측값 (ŷ)] -->|📉 오차 계산| B[🎯 Loss 함수]\n",
    "    B -->|🔁 기울기 계산 & 역전파| C[🧠 모델 학습 (가중치 업데이트)]\n",
    "\n",
    "    A -->|📊 평가| D[📈 Metric 함수]\n",
    "    D -->|✅ 정답과 비교| E[📝 성능 수치 출력]\n",
    "\n",
    "    subgraph 🔗 Loss & Metric의 관계\n",
    "        B --- D\n",
    "    end\n",
    "\n",
    "    classDef loss fill:#fde2e2,stroke:#f08080,color:#000;\n",
    "    classDef metric fill:#e2f0fd,stroke:#4080f0,color:#000;\n",
    "\n",
    "    class B,C loss\n",
    "    class D,E metric\n",
    "```"
   ]
  }
 ],
 "metadata": {
  "kernelspec": {
   "display_name": "Python 3",
   "language": "python",
   "name": "python3"
  },
  "language_info": {
   "codemirror_mode": {
    "name": "ipython",
    "version": 3
   },
   "file_extension": ".py",
   "mimetype": "text/x-python",
   "name": "python",
   "nbconvert_exporter": "python",
   "pygments_lexer": "ipython3",
   "version": "3.11.9"
  }
 },
 "nbformat": 4,
 "nbformat_minor": 2
}
